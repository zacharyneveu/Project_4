{
 "cells": [
  {
   "cell_type": "markdown",
   "metadata": {},
   "source": [
    "# Project 5\n",
    "Graph Coloring Heuristics using local search.\n",
    "\n",
    "This notebook contains the graph coloring portion of the project, implementing simple steepest descent, as well as a genetic algorithm solution.\n",
    "\n",
    "For this project, the graph coloring was done in the Julia programming language. This allows for using Jupyter notebooks for developm                          \n",
    "ent and easy visualization of graphs. To view results, the *.ipynb file can be opened in Jupyter, the *.jl file can be run in Julia, or a PDF has been expo    \n",
    "rted with all code and outputs. Output files are created as in all other projects, and additionally, plots of the best solutions are included.                 \n",
    "                                                                                                                                                               \n",
    "The two graph coloring algorithms implemented are steepest descent and genetic algorithms. Steepest descent produces worse solutions faster, while genetic algo\n",
    "rithms generally produce better solutions but can take a lot of time. In general, the solutions found and runtimes for GAs could be greatly improved by tuning \n",
    "the hyperparameters. With four degrees of freedom (initial population, generations, selection percent and chance of mutation), a proper search for the best par\n",
    "ameters could not be performed in the time allotted. The steepest descent algorithm is designed to simply find the local optima and stop there. If this algorit\n",
    "hm is modified to find the best neighbor even if it is worse and go there, it will often find better solutions, but takes more time. "
   ]
  },
  {
   "cell_type": "code",
   "execution_count": 1,
   "metadata": {},
   "outputs": [],
   "source": [
    "using LightGraphs\n",
    "using MetaGraphs\n",
    "using GraphPlot\n",
    "using Glob"
   ]
  },
  {
   "cell_type": "markdown",
   "metadata": {},
   "source": [
    "## Load Graphs\n",
    "This function loads graphs from the `.input` text files as a LightGraphs object."
   ]
  },
  {
   "cell_type": "code",
   "execution_count": 4,
   "metadata": {},
   "outputs": [
    {
     "data": {
      "text/plain": [
       "loadGraph (generic function with 1 method)"
      ]
     },
     "execution_count": 4,
     "metadata": {},
     "output_type": "execute_result"
    }
   ],
   "source": [
    "function loadGraph(fn)\n",
    "    open(fn) do f\n",
    "        s = read(f, String)\n",
    "        s = split(s, '\\n')\n",
    "        nCols = parse(Int, s[1])\n",
    "        nv = parse(Int, split(s[2], ' ')[1])\n",
    "        g = SimpleGraph(nv)\n",
    "        for i=3:length(s)-1\n",
    "            start = parse(Int, split(s[i], ' ')[1])+1\n",
    "            fin =   parse(Int, split(s[i], ' ')[2])+1\n",
    "            add_edge!(g, start, fin)\n",
    "        end\n",
    "        mg = MetaGraph(g)\n",
    "        set_prop!(mg, :nColors, nCols)\n",
    "        set_prop!(mg, :name, split(fn, '/')[end])\n",
    "        return mg\n",
    "    end\n",
    "end"
   ]
  },
  {
   "cell_type": "markdown",
   "metadata": {},
   "source": [
    "## Write Solution to File\n",
    "Writes number of colors, number of conflicts, and colors of each node to a file"
   ]
  },
  {
   "cell_type": "code",
   "execution_count": 50,
   "metadata": {},
   "outputs": [
    {
     "data": {
      "text/plain": [
       "writeSolution (generic function with 1 method)"
      ]
     },
     "execution_count": 50,
     "metadata": {},
     "output_type": "execute_result"
    }
   ],
   "source": [
    "function writeSolution(g, folder)\n",
    "    n = get_prop(g, :name)\n",
    "    n = n[1:end-6]*\".output\"\n",
    "    nc = get_prop(g, :nColors)\n",
    "    open(folder*n, \"w+\") do f\n",
    "        confs = getConflicts(g)\n",
    "        write(f, \"Number of Colors: $(nc)\\n\")\n",
    "        write(f, \"Best solution: $(confs) conflicts\\n\")\n",
    "        for v in vertices(g)\n",
    "            write(f, \"Node $(v): $(get_prop(g, v, :color))\\n\")\n",
    "        end\n",
    "    end\n",
    "end"
   ]
  },
  {
   "cell_type": "markdown",
   "metadata": {},
   "source": [
    "## Write Image of Solution to File\n"
   ]
  },
  {
   "cell_type": "code",
   "execution_count": null,
   "metadata": {},
   "outputs": [],
   "source": [
    "function writeImage(g, folder)\n",
    "    n = get_prop(g, :name)\n",
    "    n = n[1:end-6]*\".output\"\n",
    "    nc = get_prop(g, :nColors)\n",
    "    fillc = distinguishable_colors(nc, colorant\"blue\")\n",
    "    elabs = [get_prop(g, e.src, :color) == get_prop(g, e.dst, :color) ? \"x\" : \"\" for e in edges(g)]\n",
    "    cs = [get_prop(g, v, :color) for v in vertices(g)]\n",
    "    c = [fillc[i] for i in cs]\n",
    "    draw(PNG(folder*n, 16cm, 16cm), gplot(g, nodefillc=c, nodelabel=1:nv(g), edgelabel=elabs))\n",
    "end"
   ]
  },
  {
   "cell_type": "markdown",
   "metadata": {},
   "source": [
    "## Initialization\n",
    "Randomly initialize colors of graph (in place version has `!`)"
   ]
  },
  {
   "cell_type": "code",
   "execution_count": 35,
   "metadata": {},
   "outputs": [
    {
     "data": {
      "text/plain": [
       "init! (generic function with 1 method)"
      ]
     },
     "execution_count": 35,
     "metadata": {},
     "output_type": "execute_result"
    }
   ],
   "source": [
    "function init!(g)\n",
    "    for v in vertices(g)\n",
    "        nc = get_prop(g, :nColors)\n",
    "        color = rand(0:nc-1)\n",
    "        set_prop!(g, v, :color, color)\n",
    "    end\n",
    "end"
   ]
  },
  {
   "cell_type": "code",
   "execution_count": 7,
   "metadata": {},
   "outputs": [
    {
     "data": {
      "text/plain": [
       "init (generic function with 1 method)"
      ]
     },
     "execution_count": 7,
     "metadata": {},
     "output_type": "execute_result"
    }
   ],
   "source": [
    "function init(g)\n",
    "    cg = copy(g)\n",
    "    init!(cg)\n",
    "    return cg\n",
    "end"
   ]
  },
  {
   "cell_type": "markdown",
   "metadata": {},
   "source": [
    "## Plotting Utility\n",
    "Allows for plotting graphs with `x` over edges with conflict and color numbers on each node"
   ]
  },
  {
   "cell_type": "code",
   "execution_count": 8,
   "metadata": {},
   "outputs": [
    {
     "data": {
      "text/plain": [
       "plotColors (generic function with 1 method)"
      ]
     },
     "execution_count": 8,
     "metadata": {},
     "output_type": "execute_result"
    }
   ],
   "source": [
    "function plotColors(g)\n",
    "    colors = [get_prop(g, v, :color) for v in vertices(g)]\n",
    "    elabs = [get_prop(g, e.src, :color) == get_prop(g, e.dst, :color) ? \"x\" : \"\" for e in edges(g)]\n",
    "    gplot(g, nodelabel=colors, edgelabel=elabs)\n",
    "end"
   ]
  },
  {
   "cell_type": "markdown",
   "metadata": {},
   "source": [
    "## Counting Conflicts\n",
    "This function allows for easy counting of conflicts in a graph instance"
   ]
  },
  {
   "cell_type": "code",
   "execution_count": 9,
   "metadata": {},
   "outputs": [
    {
     "data": {
      "text/plain": [
       "getConflicts (generic function with 1 method)"
      ]
     },
     "execution_count": 9,
     "metadata": {},
     "output_type": "execute_result"
    }
   ],
   "source": [
    "function getConflicts(g)\n",
    "    return sum([get_prop(g, e.src, :color) == get_prop(g, e.dst, :color) for e in edges(g)])\n",
    "end"
   ]
  },
  {
   "cell_type": "markdown",
   "metadata": {},
   "source": [
    "## Neighborhood\n",
    "To keep a small neighborhood, neighborhood for graph coloring is all graphs that could be created by augmenting the color of one node. This leaves $n$ possible neighbors"
   ]
  },
  {
   "cell_type": "code",
   "execution_count": 41,
   "metadata": {},
   "outputs": [
    {
     "data": {
      "text/plain": [
       "getBestNeighbor (generic function with 1 method)"
      ]
     },
     "execution_count": 41,
     "metadata": {},
     "output_type": "execute_result"
    }
   ],
   "source": [
    "function getBestNeighbor(g)\n",
    "    best = g\n",
    "    for v in vertices(g)\n",
    "        new = copy(g)\n",
    "        newc = (get_prop(new, v, :color) + 1) % get_prop(g, :nColors)\n",
    "        set_prop!(new, v, :color, newc)\n",
    "        if getConflicts(new) <= getConflicts(best)\n",
    "            best = new\n",
    "        end\n",
    "    end\n",
    "    if best == g\n",
    "        return false\n",
    "    else\n",
    "        return best\n",
    "    end\n",
    "end\n",
    "        "
   ]
  },
  {
   "cell_type": "markdown",
   "metadata": {},
   "source": [
    "## Descent Strategy\n",
    "Simply get the best neighbor every iteration (false returned if no better neighbors)"
   ]
  },
  {
   "cell_type": "code",
   "execution_count": 53,
   "metadata": {},
   "outputs": [
    {
     "data": {
      "text/plain": [
       "steepestDescent (generic function with 2 methods)"
      ]
     },
     "execution_count": 53,
     "metadata": {},
     "output_type": "execute_result"
    }
   ],
   "source": [
    "function steepestDescent(g)\n",
    "    cg = copy(g)\n",
    "    while true\n",
    "        new = getBestNeighbor(cg)\n",
    "        if new != false\n",
    "            cg = new\n",
    "        else\n",
    "            return cg\n",
    "        end\n",
    "    end\n",
    "end"
   ]
  },
  {
   "cell_type": "markdown",
   "metadata": {},
   "source": [
    "## Run on All Input Files"
   ]
  },
  {
   "cell_type": "code",
   "execution_count": 36,
   "metadata": {},
   "outputs": [],
   "source": [
    "using Glob"
   ]
  },
  {
   "cell_type": "code",
   "execution_count": 38,
   "metadata": {},
   "outputs": [
    {
     "data": {
      "text/plain": [
       "11-element Array{String,1}:\n",
       " \"instances/color12-3.input\" \n",
       " \"instances/color12-4.input\" \n",
       " \"instances/color24-4.input\" \n",
       " \"instances/color24-5.input\" \n",
       " \"instances/color48-5.input\" \n",
       " \"instances/color48-6.input\" \n",
       " \"instances/color96-6.input\" \n",
       " \"instances/color96-7.input\" \n",
       " \"instances/color192-6.input\"\n",
       " \"instances/color192-7.input\"\n",
       " \"instances/color192-8.input\""
      ]
     },
     "execution_count": 38,
     "metadata": {},
     "output_type": "execute_result"
    }
   ],
   "source": [
    "fs = glob(\"color*.input\", \"instances\")\n",
    "getNum(str) = parse(Int, str[16:end-8])\n",
    "sort!(fs, lt=(a,b)->getNum(a) < getNum(b))"
   ]
  },
  {
   "cell_type": "code",
   "execution_count": 54,
   "metadata": {},
   "outputs": [
    {
     "name": "stdout",
     "output_type": "stream",
     "text": [
      "Instance color12-3.input: 6 conflicts\n",
      "Instance color12-4.input: 5 conflicts\n",
      "Instance color24-4.input: 20 conflicts\n",
      "Instance color24-5.input: 19 conflicts\n",
      "Instance color48-5.input: 57 conflicts\n",
      "Instance color48-6.input: 43 conflicts\n",
      "Instance color96-6.input: 125 conflicts\n",
      "Instance color96-7.input: 112 conflicts\n",
      "Instance color192-6.input: 377 conflicts\n",
      "Instance color192-7.input: 335 conflicts\n",
      "Instance color192-8.input: 296 conflicts\n"
     ]
    }
   ],
   "source": [
    "for f in fs\n",
    "    fn = split(f, '/')[end]\n",
    "    g = loadGraph(f)\n",
    "    init!(g)\n",
    "    g = steepestDescent(g)\n",
    "    confs = getConflicts(g)\n",
    "    writeSolution(g, \"sdoutputs/\")\n",
    "    println(\"Instance $fn: $(confs) conflicts\")\n",
    "end "
   ]
  },
  {
   "cell_type": "markdown",
   "metadata": {},
   "source": [
    "# Genetic Algorithm"
   ]
  },
  {
   "cell_type": "markdown",
   "metadata": {},
   "source": [
    "## Initialize Population"
   ]
  },
  {
   "cell_type": "code",
   "execution_count": 55,
   "metadata": {},
   "outputs": [
    {
     "data": {
      "text/plain": [
       "initPop (generic function with 1 method)"
      ]
     },
     "execution_count": 55,
     "metadata": {},
     "output_type": "execute_result"
    }
   ],
   "source": [
    "function initPop(g, size)\n",
    "    pop = [init(g) for i=1:size]\n",
    "    return pop\n",
    "end"
   ]
  },
  {
   "cell_type": "markdown",
   "metadata": {},
   "source": [
    "## Fitness Function\n",
    "Defined simply as the number conflicts subtracted from the number of edges. This way the minimum fitness is 0, and the maximum fitness is the number of edges."
   ]
  },
  {
   "cell_type": "code",
   "execution_count": 56,
   "metadata": {},
   "outputs": [
    {
     "data": {
      "text/plain": [
       "fitness (generic function with 1 method)"
      ]
     },
     "execution_count": 56,
     "metadata": {},
     "output_type": "execute_result"
    }
   ],
   "source": [
    "function fitness(g)\n",
    "    return ne(g) - getConflicts(g)\n",
    "end"
   ]
  },
  {
   "cell_type": "markdown",
   "metadata": {},
   "source": [
    "## Random Mutation"
   ]
  },
  {
   "cell_type": "code",
   "execution_count": 57,
   "metadata": {},
   "outputs": [
    {
     "data": {
      "text/plain": [
       "mutate (generic function with 1 method)"
      ]
     },
     "execution_count": 57,
     "metadata": {},
     "output_type": "execute_result"
    }
   ],
   "source": [
    "function mutate(g)\n",
    "    v = rand(1:nv(g))\n",
    "    nc = get_prop(g, :nColors)\n",
    "    c = rand(0:nc-1)\n",
    "    #println(\"Changing node $v to color $c\")\n",
    "end"
   ]
  },
  {
   "cell_type": "markdown",
   "metadata": {},
   "source": [
    "## Mating\n",
    "Each child solution product of 2 parent solutions. Parent solutions are chosen out of pool of selected solutions. Parents are chosen at random in proportion to their fitness. Uniformly distributed crossover point is chosen. Child inherits all colors from one parent up to crossover node, and from other parent after that point.  \n",
    "\n",
    "*TODO*: try normal distribution for crossover point to avoid children almost exclusively from one parent. Also could try making crossover random but proportional to parent fitness."
   ]
  },
  {
   "cell_type": "code",
   "execution_count": 58,
   "metadata": {},
   "outputs": [
    {
     "data": {
      "text/plain": [
       "mate (generic function with 1 method)"
      ]
     },
     "execution_count": 58,
     "metadata": {},
     "output_type": "execute_result"
    }
   ],
   "source": [
    "function mate(g1, g2)\n",
    "    cross = rand(1:nv(g1))\n",
    "    child = copy(g1)\n",
    "    for v=1:nv(g1)\n",
    "        g1c = get_prop(g1, v, :color)\n",
    "        g2c = get_prop(g2, v, :color)\n",
    "        if v <= cross\n",
    "            set_prop!(child, v, :color, g1c)\n",
    "        else\n",
    "            set_prop!(child, v, :color, g2c)\n",
    "        end\n",
    "    end\n",
    "    return child\n",
    "end"
   ]
  },
  {
   "cell_type": "markdown",
   "metadata": {},
   "source": [
    "## Selection\n",
    "Select graphs randomly, but in proportion to their fitness. `pct` param specifies the approximate percentage of the population to select."
   ]
  },
  {
   "cell_type": "code",
   "execution_count": 59,
   "metadata": {},
   "outputs": [
    {
     "data": {
      "text/plain": [
       "select (generic function with 1 method)"
      ]
     },
     "execution_count": 59,
     "metadata": {},
     "output_type": "execute_result"
    }
   ],
   "source": [
    "function select(pop, pct)\n",
    "    fits = [fitness(g) for g in pop]\n",
    "    max_fit = maximum(fits)\n",
    "    min_fit = minimum(fits)\n",
    "    fitr = max_fit-min_fit\n",
    "    sel = [g for g in pop if rand(0:max_fit) < (fitness(g))*1. *pct/100]\n",
    "    #println(\"Num selected: $(length(sel))\")\n",
    "    return sel\n",
    "end"
   ]
  },
  {
   "cell_type": "markdown",
   "metadata": {},
   "source": [
    "## Get Next Generation"
   ]
  },
  {
   "cell_type": "code",
   "execution_count": 60,
   "metadata": {},
   "outputs": [],
   "source": [
    "using StatsBase"
   ]
  },
  {
   "cell_type": "code",
   "execution_count": 72,
   "metadata": {},
   "outputs": [
    {
     "data": {
      "text/plain": [
       "generate (generic function with 1 method)"
      ]
     },
     "execution_count": 72,
     "metadata": {},
     "output_type": "execute_result"
    }
   ],
   "source": [
    "function generate(pop,survive_rate,mutate_rate)\n",
    "    # TODO: make this a do->while once I know if this is possible in Julia\n",
    "    parents = select(pop, survive_rate)\n",
    "    # make sure more than two parents present or mating fails...\n",
    "    while length(parents) < 2\n",
    "        parents = select(pop, survive_rate)\n",
    "    end\n",
    "    children = copy(pop)\n",
    "    fits = [fitness(g) for g in parents]\n",
    "    # new pop should be same size as old pop\n",
    "    # TODO: experiment with this assumption\n",
    "    for i=1:length(pop)\n",
    "        ps = sample(parents, Weights(fits), 2, replace=false)\n",
    "        children[i] = mate(ps[1], ps[2])\n",
    "        if rand(0:100) > mutate_rate\n",
    "            mutate(children[i])\n",
    "        end\n",
    "    end\n",
    "    return children\n",
    "end"
   ]
  },
  {
   "cell_type": "markdown",
   "metadata": {},
   "source": [
    "## Get Many Generations"
   ]
  },
  {
   "cell_type": "code",
   "execution_count": 62,
   "metadata": {},
   "outputs": [],
   "source": [
    "using ProgressMeter"
   ]
  },
  {
   "cell_type": "code",
   "execution_count": 63,
   "metadata": {},
   "outputs": [
    {
     "data": {
      "text/plain": [
       "evolve (generic function with 1 method)"
      ]
     },
     "execution_count": 63,
     "metadata": {},
     "output_type": "execute_result"
    }
   ],
   "source": [
    "function evolve(pop, generations, survive_rate, mutate_rate)\n",
    "    pc = copy(pop)\n",
    "    @showprogress 0.5 \"Instance progress: \" for i=1:generations\n",
    "        pc = generate(pc, survive_rate, mutate_rate)\n",
    "        maxfit = maximum([fitness(g) for g in pc])\n",
    "        if maxfit == ne(pop[1]) # perfect solution found\n",
    "            println(\"Perfect solution found at generation $i\")\n",
    "            return pc\n",
    "        end\n",
    "    end\n",
    "    return pc\n",
    "end"
   ]
  },
  {
   "cell_type": "code",
   "execution_count": 64,
   "metadata": {},
   "outputs": [
    {
     "data": {
      "text/plain": [
       "maxFit (generic function with 1 method)"
      ]
     },
     "execution_count": 64,
     "metadata": {},
     "output_type": "execute_result"
    }
   ],
   "source": [
    "meanFit(pop) = mean([fitness(g) for g in pop])\n",
    "maxFit(pop) = maximum([fitness(g) for g in pop])"
   ]
  },
  {
   "cell_type": "markdown",
   "metadata": {},
   "source": [
    "# Run on All Input Files"
   ]
  },
  {
   "cell_type": "code",
   "execution_count": 65,
   "metadata": {},
   "outputs": [
    {
     "data": {
      "text/plain": [
       "11-element Array{String,1}:\n",
       " \"instances/color12-3.input\" \n",
       " \"instances/color12-4.input\" \n",
       " \"instances/color24-4.input\" \n",
       " \"instances/color24-5.input\" \n",
       " \"instances/color48-5.input\" \n",
       " \"instances/color48-6.input\" \n",
       " \"instances/color96-6.input\" \n",
       " \"instances/color96-7.input\" \n",
       " \"instances/color192-6.input\"\n",
       " \"instances/color192-7.input\"\n",
       " \"instances/color192-8.input\""
      ]
     },
     "execution_count": 65,
     "metadata": {},
     "output_type": "execute_result"
    }
   ],
   "source": [
    "fs = glob(\"color*.input\", \"instances\")\n",
    "getNum(str) = parse(Int, str[16:end-8])\n",
    "sort!(fs, lt=(a,b)->getNum(a) < getNum(b))"
   ]
  },
  {
   "cell_type": "markdown",
   "metadata": {},
   "source": [
    "### Parameters\n",
    "Course parameter search performed on these, the values found seem to work ok. Small changes make a big difference, however, and optimizing these could yield much faster and better solutions.\n",
    "\n",
    "Initial population: 500  \n",
    "Generations: 200  \n",
    "Approximate amount of population selected: 80%  \n",
    "Chance of mutation: 40%  "
   ]
  },
  {
   "cell_type": "code",
   "execution_count": 79,
   "metadata": {},
   "outputs": [
    {
     "data": {
      "text/plain": [
       "run_all (generic function with 1 method)"
      ]
     },
     "execution_count": 79,
     "metadata": {},
     "output_type": "execute_result"
    }
   ],
   "source": [
    "function run_all(fs)\n",
    "    for f in fs\n",
    "        fn = split(f, '/')[end]\n",
    "        g = loadGraph(f)\n",
    "        pop = initPop(g, 100)\n",
    "        bestpop = evolve(pop, 400, 80, 40)\n",
    "        inst = argmax([fitness(g) for g in bestpop])\n",
    "        confs = getConflicts(bestpop[inst])\n",
    "        writeSolution(bestpop[inst], \"gaoutputs/\")\n",
    "        println(\"Instance $fn: $(confs) conflicts\")\n",
    "        print(\"\")\n",
    "    end \n",
    "end"
   ]
  },
  {
   "cell_type": "code",
   "execution_count": 80,
   "metadata": {},
   "outputs": [
    {
     "name": "stderr",
     "output_type": "stream",
     "text": [
      "\u001b[32mInstance progress: 100%|████████████████████████████████| Time: 0:00:04\u001b[39m\n"
     ]
    },
    {
     "name": "stdout",
     "output_type": "stream",
     "text": [
      "Instance color12-3.input: 1 conflicts\n",
      "Perfect solution found at generation 3\n",
      "Instance color12-4.input: 0 conflicts\n"
     ]
    },
    {
     "name": "stderr",
     "output_type": "stream",
     "text": [
      "\u001b[32mInstance progress: 100%|████████████████████████████████| Time: 0:00:11\u001b[39m\n"
     ]
    },
    {
     "name": "stdout",
     "output_type": "stream",
     "text": [
      "Instance color24-4.input: 4 conflicts\n"
     ]
    },
    {
     "name": "stderr",
     "output_type": "stream",
     "text": [
      "\u001b[32mInstance progress: 100%|████████████████████████████████| Time: 0:00:11\u001b[39m\n"
     ]
    },
    {
     "name": "stdout",
     "output_type": "stream",
     "text": [
      "Instance color24-5.input: 3 conflicts\n"
     ]
    },
    {
     "name": "stderr",
     "output_type": "stream",
     "text": [
      "\u001b[32mInstance progress: 100%|████████████████████████████████| Time: 0:00:31\u001b[39m\n"
     ]
    },
    {
     "name": "stdout",
     "output_type": "stream",
     "text": [
      "Instance color48-5.input: 28 conflicts\n"
     ]
    },
    {
     "name": "stderr",
     "output_type": "stream",
     "text": [
      "\u001b[32mInstance progress: 100%|████████████████████████████████| Time: 0:00:31\u001b[39m\n"
     ]
    },
    {
     "name": "stdout",
     "output_type": "stream",
     "text": [
      "Instance color48-6.input: 24 conflicts\n"
     ]
    },
    {
     "name": "stderr",
     "output_type": "stream",
     "text": [
      "\u001b[32mInstance progress: 100%|████████████████████████████████| Time: 0:01:24\u001b[39m\n"
     ]
    },
    {
     "name": "stdout",
     "output_type": "stream",
     "text": [
      "Instance color96-6.input: 106 conflicts\n"
     ]
    },
    {
     "name": "stderr",
     "output_type": "stream",
     "text": [
      "\u001b[32mInstance progress: 100%|████████████████████████████████| Time: 0:01:24\u001b[39m\n"
     ]
    },
    {
     "name": "stdout",
     "output_type": "stream",
     "text": [
      "Instance color96-7.input: 94 conflicts\n"
     ]
    },
    {
     "name": "stderr",
     "output_type": "stream",
     "text": [
      "\u001b[32mInstance progress: 100%|████████████████████████████████| Time: 0:04:04\u001b[39m\n"
     ]
    },
    {
     "name": "stdout",
     "output_type": "stream",
     "text": [
      "Instance color192-6.input: 372 conflicts\n"
     ]
    },
    {
     "name": "stderr",
     "output_type": "stream",
     "text": [
      "\u001b[32mInstance progress: 100%|████████████████████████████████| Time: 0:04:03\u001b[39m\n"
     ]
    },
    {
     "name": "stdout",
     "output_type": "stream",
     "text": [
      "Instance color192-7.input: 320 conflicts\n"
     ]
    },
    {
     "name": "stderr",
     "output_type": "stream",
     "text": [
      "\u001b[32mInstance progress: 100%|████████████████████████████████| Time: 0:04:06\u001b[39m\n"
     ]
    },
    {
     "name": "stdout",
     "output_type": "stream",
     "text": [
      "Instance color192-8.input: 277 conflicts\n"
     ]
    }
   ],
   "source": [
    "run_all(fs)"
   ]
  },
  {
   "cell_type": "code",
   "execution_count": null,
   "metadata": {},
   "outputs": [],
   "source": []
  }
 ],
 "metadata": {
  "kernelspec": {
   "display_name": "Julia 1.1.1",
   "language": "julia",
   "name": "julia-1.1"
  },
  "language_info": {
   "file_extension": ".jl",
   "mimetype": "application/julia",
   "name": "julia",
   "version": "1.1.1"
  }
 },
 "nbformat": 4,
 "nbformat_minor": 2
}
